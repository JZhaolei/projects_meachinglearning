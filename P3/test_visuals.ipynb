{
 "cells": [
  {
   "cell_type": "markdown",
   "metadata": {},
   "source": [
    "#### 1.阻止警告以及导入包"
   ]
  },
  {
   "cell_type": "code",
   "execution_count": 2,
   "metadata": {},
   "outputs": [],
   "source": [
    "# Suppress matplotlib user warnings\n",
    "# Necessary for newer version of matplotlib\n",
    "import warnings\n",
    "warnings.filterwarnings(\"ignore\", category = UserWarning, module = \"matplotlib\")\n",
    "#\n",
    "# Display inline matplotlib plots with IPython\n",
    "from IPython import get_ipython\n",
    "get_ipython().run_line_magic('matplotlib', 'inline')"
   ]
  },
  {
   "cell_type": "code",
   "execution_count": 3,
   "metadata": {},
   "outputs": [],
   "source": [
    "import matplotlib.pyplot as plt\n",
    "import matplotlib.cm as cm\n",
    "import numpy as np\n",
    "import pandas as pd"
   ]
  },
  {
   "cell_type": "markdown",
   "metadata": {},
   "source": [
    "#### 2.PCA结果显示"
   ]
  },
  {
   "cell_type": "code",
   "execution_count": null,
   "metadata": {},
   "outputs": [],
   "source": [
    "def pca_results(good_data, pca):\n",
    "\t'''\n",
    "\tCreate a DataFrame of the PCA results\n",
    "\tIncludes dimension feature weights and explained variance\n",
    "\tVisualizes the PCA results\n",
    "\t'''\n",
    "    # Dimension indexing 维度索引\n",
    "\tdimensions = dimensions = ['Dimension {}'.format(i) for i in range(1,len(pca.components_)+1)]\n",
    "\n",
    "\t# PCA components 主成分\n",
    "\tcomponents = pd.DataFrame(np.round(pca.components_, 4), columns = good_data.keys())\n",
    "\tcomponents.index = dimensions\n",
    "\n",
    "\t# PCA explained variance 主成分方差\n",
    "\tratios = pca.explained_variance_ratio_.reshape(len(pca.components_), 1)\n",
    "\tvariance_ratios = pd.DataFrame(np.round(ratios, 4), columns = ['Explained Variance'])\n",
    "\tvariance_ratios.index = dimensions\n",
    "\n",
    "\t# Create a bar plot visualization\n",
    "\tfig, ax = plt.subplots(figsize = (14,8))\n",
    "\n",
    "\t# Plot the feature weights as a function of the components\n",
    "\tcomponents.plot(ax = ax, kind = 'bar');\n",
    "\tax.set_ylabel(\"Feature Weights\")\n",
    "\tax.set_xticklabels(dimensions, rotation=0)\n",
    "\n",
    "\n",
    "\t# Display the explained variance ratios\n",
    "\tfor i, ev in enumerate(pca.explained_variance_ratio_):\n",
    "\t\tax.text(i-0.40, ax.get_ylim()[1] + 0.05, \"Explained Variance\\n          %.4f\"%(ev))\n",
    "\n",
    "\t# Return a concatenated DataFrame\n",
    "\treturn pd.concat([variance_ratios, components], axis = 1)"
   ]
  },
  {
   "cell_type": "code",
   "execution_count": null,
   "metadata": {},
   "outputs": [],
   "source": []
  }
 ],
 "metadata": {
  "kernelspec": {
   "display_name": "Python 2",
   "language": "python",
   "name": "python2"
  },
  "language_info": {
   "codemirror_mode": {
    "name": "ipython",
    "version": 2
   },
   "file_extension": ".py",
   "mimetype": "text/x-python",
   "name": "python",
   "nbconvert_exporter": "python",
   "pygments_lexer": "ipython2",
   "version": "2.7.12"
  }
 },
 "nbformat": 4,
 "nbformat_minor": 2
}
