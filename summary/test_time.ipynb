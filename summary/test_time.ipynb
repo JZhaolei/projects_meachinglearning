{
 "cells": [
  {
   "cell_type": "code",
   "execution_count": null,
   "metadata": {},
   "outputs": [],
   "source": [
    "#from sklearn.naive_bayes import GaussianNB\n",
    "#clf = GaussianNB()\n",
    "\n",
    "t0=time()\n",
    "\n",
    "#clf.fit(features_train, labels_train)\n",
    "print \"training time:\",round(time()-t0,3),\"s\"\n",
    "\n",
    "t1=time()\n",
    "#pred = clf.predict(features_test)\n",
    "print \"predicting time:\",round(time()-t1,3),\"s\""
   ]
  }
 ],
 "metadata": {
  "kernelspec": {
   "display_name": "Python 2",
   "language": "python",
   "name": "python2"
  },
  "language_info": {
   "codemirror_mode": {
    "name": "ipython",
    "version": 2
   },
   "file_extension": ".py",
   "mimetype": "text/x-python",
   "name": "python",
   "nbconvert_exporter": "python",
   "pygments_lexer": "ipython2",
   "version": "2.7.12"
  }
 },
 "nbformat": 4,
 "nbformat_minor": 2
}
